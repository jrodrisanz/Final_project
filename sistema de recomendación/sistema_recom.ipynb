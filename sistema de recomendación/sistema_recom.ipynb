{
 "cells": [
  {
   "cell_type": "code",
   "execution_count": 1,
   "metadata": {},
   "outputs": [],
   "source": [
    "import pandas as pd\n",
    "from sklearn.feature_extraction.text import TfidfVectorizer"
   ]
  },
  {
   "cell_type": "code",
   "execution_count": 2,
   "metadata": {},
   "outputs": [],
   "source": [
    "actors = pd.read_csv('../data/clean/actors.csv', encoding='utf-8', encoding_errors='ignore')\n",
    "titles = pd.read_csv('../data/clean/titles.csv', encoding='utf-8', encoding_errors='ignore')\n",
    "com_group = pd.read_csv('../data/clean/com_group.csv', encoding='utf-8', encoding_errors='ignore')\n",
    "comments = pd.read_csv('../data/clean/comments.csv', encoding='utf-8', encoding_errors='ignore')"
   ]
  },
  {
   "cell_type": "code",
   "execution_count": 3,
   "metadata": {},
   "outputs": [
    {
     "data": {
      "text/html": [
       "<div>\n",
       "<style scoped>\n",
       "    .dataframe tbody tr th:only-of-type {\n",
       "        vertical-align: middle;\n",
       "    }\n",
       "\n",
       "    .dataframe tbody tr th {\n",
       "        vertical-align: top;\n",
       "    }\n",
       "\n",
       "    .dataframe thead th {\n",
       "        text-align: right;\n",
       "    }\n",
       "</style>\n",
       "<table border=\"1\" class=\"dataframe\">\n",
       "  <thead>\n",
       "    <tr style=\"text-align: right;\">\n",
       "      <th></th>\n",
       "      <th>imdb_id</th>\n",
       "      <th>review</th>\n",
       "      <th>title</th>\n",
       "    </tr>\n",
       "  </thead>\n",
       "  <tbody>\n",
       "    <tr>\n",
       "      <th>0</th>\n",
       "      <td>tt0002199</td>\n",
       "      <td>While this pioneering effort does have some sh...</td>\n",
       "      <td>From the Manger to the Cross</td>\n",
       "    </tr>\n",
       "    <tr>\n",
       "      <th>1</th>\n",
       "      <td>tt0003973</td>\n",
       "      <td>A women finds 4 seeds in an antique chest that...</td>\n",
       "      <td>A Florida Enchantment</td>\n",
       "    </tr>\n",
       "    <tr>\n",
       "      <th>2</th>\n",
       "      <td>tt0004457</td>\n",
       "      <td>\"The Patchwork Girl of Oz\" was the most racist...</td>\n",
       "      <td>The Patchwork Girl of Oz</td>\n",
       "    </tr>\n",
       "    <tr>\n",
       "      <th>3</th>\n",
       "      <td>tt0004873</td>\n",
       "      <td>Before I jump into the review, I have a confes...</td>\n",
       "      <td>Alice in Wonderland</td>\n",
       "    </tr>\n",
       "    <tr>\n",
       "      <th>4</th>\n",
       "      <td>tt0005302</td>\n",
       "      <td>It may be considered a slender story and not w...</td>\n",
       "      <td>Fanchon, the Cricket</td>\n",
       "    </tr>\n",
       "  </tbody>\n",
       "</table>\n",
       "</div>"
      ],
      "text/plain": [
       "     imdb_id                                             review   \n",
       "0  tt0002199  While this pioneering effort does have some sh...  \\\n",
       "1  tt0003973  A women finds 4 seeds in an antique chest that...   \n",
       "2  tt0004457  \"The Patchwork Girl of Oz\" was the most racist...   \n",
       "3  tt0004873  Before I jump into the review, I have a confes...   \n",
       "4  tt0005302  It may be considered a slender story and not w...   \n",
       "\n",
       "                          title  \n",
       "0  From the Manger to the Cross  \n",
       "1         A Florida Enchantment  \n",
       "2      The Patchwork Girl of Oz  \n",
       "3           Alice in Wonderland  \n",
       "4          Fanchon, the Cricket  "
      ]
     },
     "execution_count": 3,
     "metadata": {},
     "output_type": "execute_result"
    }
   ],
   "source": [
    "com_group.head()"
   ]
  },
  {
   "cell_type": "code",
   "execution_count": 4,
   "metadata": {},
   "outputs": [],
   "source": [
    "# Definir objeto vectorizador TF_IDF\n",
    "\n",
    "tfidf = TfidfVectorizer(stop_words= 'english')"
   ]
  },
  {
   "cell_type": "code",
   "execution_count": 5,
   "metadata": {},
   "outputs": [
    {
     "data": {
      "text/plain": [
       "(14776, 219400)"
      ]
     },
     "execution_count": 5,
     "metadata": {},
     "output_type": "execute_result"
    }
   ],
   "source": [
    "# contruir matriz TF-IDF\n",
    "\n",
    "tfidf_matrix = tfidf.fit_transform(com_group['review'])\n",
    "tfidf_matrix.shape"
   ]
  },
  {
   "cell_type": "code",
   "execution_count": 6,
   "metadata": {},
   "outputs": [],
   "source": [
    "from sklearn.metrics.pairwise import linear_kernel\n",
    "\n",
    "cosine_sim= linear_kernel(tfidf_matrix, tfidf_matrix)"
   ]
  },
  {
   "cell_type": "code",
   "execution_count": 7,
   "metadata": {},
   "outputs": [],
   "source": [
    "# construir mapa inverso de indices y titulos de peliculas\n",
    "\n",
    "indices= pd.Series(com_group.index, index= com_group['title']).drop_duplicates()"
   ]
  },
  {
   "cell_type": "code",
   "execution_count": 10,
   "metadata": {},
   "outputs": [],
   "source": [
    "def get_recom (title, cosine_sim=cosine_sim):\n",
    "    idx = indices[title]\n",
    "\n",
    "    sim_scores= list(enumerate(cosine_sim[idx]))\n",
    "\n",
    "    sim_scores= sorted(sim_scores, key= lambda x: x[1], reverse=True)\n",
    "\n",
    "    sim_scores=  sim_scores[1:11]\n",
    "\n",
    "    movie_id= [i[0]for i in sim_scores]\n",
    "\n",
    "    return com_group['title'].iloc[movie_id]"
   ]
  },
  {
   "cell_type": "code",
   "execution_count": 13,
   "metadata": {},
   "outputs": [
    {
     "data": {
      "text/plain": [
       "14368                      El Camino: A Breaking Bad Movie\n",
       "9377                                      Better Call Saul\n",
       "10803                                          Sneaky Pete\n",
       "12843                                           Your Honor\n",
       "5140     The Road to El Camino: Behind the Scenes of El...\n",
       "9958                                              Spotless\n",
       "4158                                       Game of Thrones\n",
       "10221                                              Shooter\n",
       "3261                                              The Wire\n",
       "8860                                        True Detective\n",
       "Name: title, dtype: object"
      ]
     },
     "execution_count": 13,
     "metadata": {},
     "output_type": "execute_result"
    }
   ],
   "source": [
    "get_recom('Breaking Bad')"
   ]
  },
  {
   "cell_type": "code",
   "execution_count": null,
   "metadata": {},
   "outputs": [],
   "source": []
  }
 ],
 "metadata": {
  "kernelspec": {
   "display_name": "ETL",
   "language": "python",
   "name": "python3"
  },
  "language_info": {
   "codemirror_mode": {
    "name": "ipython",
    "version": 3
   },
   "file_extension": ".py",
   "mimetype": "text/x-python",
   "name": "python",
   "nbconvert_exporter": "python",
   "pygments_lexer": "ipython3",
   "version": "3.9.16"
  },
  "orig_nbformat": 4
 },
 "nbformat": 4,
 "nbformat_minor": 2
}
